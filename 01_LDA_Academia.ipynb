{
 "cells": [
  {
   "metadata": {},
   "cell_type": "markdown",
   "source": [
    "# 1. LDA Topic Modeling - Academia\n",
    "- title, abstract만 갖고 토픽 모델링 진행\n",
    "## 1.1. 전처리\n",
    "- NER로 사람 이름 체크 및 제거\n",
    "- 불용어로 Information System, Research, Study 제거\n",
    "- 각 키워드를 소문자 변환 후에 띄어쓰기 제거 및 복수형태 통일"
   ],
   "id": "6eed135aa05a01d1"
  },
  {
   "cell_type": "code",
   "execution_count": null,
   "id": "initial_id",
   "metadata": {
    "collapsed": true
   },
   "outputs": [],
   "source": "import pandas as pd"
  }
 ],
 "metadata": {
  "kernelspec": {
   "display_name": "Python 3",
   "language": "python",
   "name": "python3"
  },
  "language_info": {
   "codemirror_mode": {
    "name": "ipython",
    "version": 2
   },
   "file_extension": ".py",
   "mimetype": "text/x-python",
   "name": "python",
   "nbconvert_exporter": "python",
   "pygments_lexer": "ipython2",
   "version": "2.7.6"
  }
 },
 "nbformat": 4,
 "nbformat_minor": 5
}
