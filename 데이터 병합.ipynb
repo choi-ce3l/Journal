{
 "cells": [
  {
   "metadata": {},
   "cell_type": "markdown",
   "source": "# 1. Academia",
   "id": "d54c33111de886e6"
  },
  {
   "metadata": {},
   "cell_type": "markdown",
   "source": "## 1.1. 데이터 병합",
   "id": "f5ad4e55b40a4d6d"
  },
  {
   "metadata": {
    "ExecuteTime": {
     "end_time": "2025-09-15T11:42:11.783533Z",
     "start_time": "2025-09-15T11:42:11.728423Z"
    }
   },
   "cell_type": "code",
   "source": [
    "import pandas as pd\n",
    "from pandas import value_counts\n",
    "\n",
    "# 파일 경로\n",
    "files = [\n",
    "    \"DSS/dss_vol164to170.csv\",\n",
    "    \"DSS/dss_vol170to180.csv\",\n",
    "    \"DSS/dss_vol180to190.csv\",\n",
    "    \"DSS/dss_vol183to190.csv\",\n",
    "    \"DSS/dss_vol186to190.csv\",\n",
    "    \"DSS/dss_vol189to197.csv\"\n",
    "]\n",
    "\n",
    "# 모든 파일 읽어서 합치기\n",
    "dfs = [pd.read_csv(f) for f in files]\n",
    "merged_df = pd.concat(dfs, ignore_index=True)\n",
    "\n",
    "# 중복 제거 (같은 논문 여러 번 수집된 경우)\n",
    "merged_df = merged_df.drop_duplicates()\n",
    "\n",
    "# CSV로 저장\n",
    "merged_df.to_csv(\"dss_merged.csv\", index=False)\n",
    "\n",
    "print(\"CSV 병합 완료: dss_merged.csv\")"
   ],
   "id": "d8fc5ef7f09dd1d5",
   "outputs": [
    {
     "name": "stdout",
     "output_type": "stream",
     "text": [
      "CSV 병합 완료: dss_merged.csv\n"
     ]
    }
   ],
   "execution_count": 48
  },
  {
   "metadata": {
    "ExecuteTime": {
     "end_time": "2025-09-15T11:42:38.362841Z",
     "start_time": "2025-09-15T11:42:38.346240Z"
    }
   },
   "cell_type": "code",
   "source": "merged_df.to_csv('DSS/DSS.csv', index=False, encoding=\"utf-8-sig\")",
   "id": "d71f866305379be0",
   "outputs": [],
   "execution_count": 50
  },
  {
   "metadata": {
    "ExecuteTime": {
     "end_time": "2025-09-15T11:44:31.368096Z",
     "start_time": "2025-09-15T11:44:31.324401Z"
    }
   },
   "cell_type": "code",
   "source": [
    "import pandas as pd\n",
    "import glob\n",
    "import os\n",
    "\n",
    "# CSV 파일이 들어있는 폴더 경로\n",
    "folder_path = \"Crawler/IAM\"\n",
    "\n",
    "# 해당 폴더 안의 모든 csv 파일 불러오기\n",
    "all_files = glob.glob(os.path.join(folder_path, \"*.csv\"))\n",
    "\n",
    "# 파일들을 DataFrame으로 읽어서 합치기\n",
    "dfs = [pd.read_csv(f) for f in all_files]\n",
    "merged_df = pd.concat(dfs, ignore_index=True)\n",
    "\n",
    "# 중복 제거 (같은 논문 여러 번 수집된 경우)\n",
    "merged_df = merged_df.drop_duplicates()\n",
    "\n",
    "# 저장\n",
    "output_file = os.path.join(folder_path, \"IAM.csv\")\n",
    "merged_df.to_csv(output_file, index=False)\n",
    "\n",
    "print(\"CSV 병합 완료:\", output_file)"
   ],
   "id": "452200a45ebdfd4c",
   "outputs": [
    {
     "name": "stdout",
     "output_type": "stream",
     "text": [
      "CSV 병합 완료: IAM/IAM.csv\n"
     ]
    }
   ],
   "execution_count": 52
  },
  {
   "metadata": {
    "ExecuteTime": {
     "end_time": "2025-09-15T11:49:02.023023Z",
     "start_time": "2025-09-15T11:49:01.898833Z"
    }
   },
   "cell_type": "code",
   "source": [
    "import pandas as pd\n",
    "import glob\n",
    "import os\n",
    "\n",
    "# CSV 폴더 경로\n",
    "folder_path = \"Crawler/Academia\"\n",
    "\n",
    "# 모든 csv 파일 읽기\n",
    "all_files = glob.glob(os.path.join(folder_path, \"*.csv\"))\n",
    "\n",
    "# 저널 키워드별 분류\n",
    "journals = {\n",
    "    \"isre\": [f for f in all_files if \"isre\" in os.path.basename(f).lower()],\n",
    "    \"misq\": [f for f in all_files if \"misq\" in os.path.basename(f).lower()],\n",
    "    \"dss\":  [f for f in all_files if \"dss\"  in os.path.basename(f).lower()],\n",
    "    \"iam\":  [f for f in all_files if \"iam\"  in os.path.basename(f).lower()],\n",
    "}\n",
    "\n",
    "# 저널별 병합\n",
    "for journal, files in journals.items():\n",
    "    if not files:\n",
    "        continue\n",
    "    dfs = [pd.read_csv(f) for f in files]\n",
    "    merged = pd.concat(dfs, ignore_index=True).drop_duplicates()\n",
    "    output_file = os.path.join(folder_path, f\"{journal.upper()}.csv\")\n",
    "    merged.to_csv(output_file, index=False)\n",
    "    print(f\"{journal.upper()} 병합 완료: {output_file}\")"
   ],
   "id": "3920ab9675b2743d",
   "outputs": [
    {
     "name": "stdout",
     "output_type": "stream",
     "text": [
      "ISRE 병합 완료: Academia/ISRE.csv\n",
      "MISQ 병합 완료: Academia/MISQ.csv\n",
      "DSS 병합 완료: Academia/DSS.csv\n",
      "IAM 병합 완료: Academia/IAM.csv\n"
     ]
    }
   ],
   "execution_count": 53
  },
  {
   "metadata": {},
   "cell_type": "markdown",
   "source": "## 1.2. 데이터 전처리",
   "id": "1742f1032afd9916"
  },
  {
   "metadata": {
    "ExecuteTime": {
     "end_time": "2025-09-16T06:23:36.419360Z",
     "start_time": "2025-09-16T06:23:36.234486Z"
    }
   },
   "cell_type": "code",
   "source": [
    "import pandas as pd\n",
    "import glob\n",
    "import os\n",
    "\n",
    "# 1. 폴더 및 파일 경로 설정\n",
    "folder_path = 'Data/Academia'  # CSV 파일들이 있는 폴더\n",
    "csv_files = glob.glob(os.path.join(folder_path, '*.csv'))\n",
    "\n",
    "df_list = []\n",
    "\n",
    "for file in csv_files:\n",
    "    # 파일명에서 저널명 추출 (예: 'MISQ.csv' → 'MISQ')\n",
    "    journal_name = os.path.splitext(os.path.basename(file))[0].upper()\n",
    "\n",
    "    # 파일 불러오기\n",
    "    df = pd.read_csv(file)\n",
    "\n",
    "    # journal 컬럼은 affiliations 대체용으로만 사용 (최종 저장에는 포함 X)\n",
    "    df['journal'] = journal_name\n",
    "\n",
    "    # affiliations 컬럼이 없으면 새로 생성\n",
    "    if 'affiliations' not in df.columns:\n",
    "        df['affiliations'] = journal_name\n",
    "    else:\n",
    "        df['affiliations'] = df['affiliations'].fillna(journal_name)\n",
    "\n",
    "    # year 추출 (내부 전처리용)\n",
    "    if journal_name == 'MISQ':\n",
    "        def extract_year_from_doi(doi):\n",
    "            if pd.isna(doi): return None\n",
    "            doi_lower = doi.lower()\n",
    "            if 'vol47' in doi_lower: return 2023\n",
    "            if 'vol48' in doi_lower: return 2024\n",
    "            if 'vol49' in doi_lower: return 2025\n",
    "            return None\n",
    "        df['date'] = df['url'].apply(extract_year_from_doi)\n",
    "    else:\n",
    "        df['date'] = pd.to_datetime(df['date'], errors='coerce').dt.year\n",
    "\n",
    "    df_list.append(df)\n",
    "\n",
    "# 2. 모든 데이터 통합\n",
    "merged_df = pd.concat(df_list, ignore_index=True)\n",
    "\n",
    "# 3. 중복 제거 (title + abstract 기준)\n",
    "merged_df.drop_duplicates(subset=['title', 'abstract'], inplace=True)\n",
    "\n",
    "# 4. Null 제거 (title, abstract)\n",
    "merged_df.dropna(subset=['title', 'abstract'], inplace=True)\n",
    "\n",
    "# 5. 최종 컬럼 순서 지정 (keyword 또는 affiliations이 없는 경우 대비)\n",
    "final_cols = ['title', 'abstract', 'keywords', 'date', 'affiliations']\n",
    "for col in final_cols:\n",
    "    if col not in merged_df.columns:\n",
    "        merged_df[col] = None  # 없으면 빈 컬럼 생성\n",
    "\n",
    "final_df = merged_df[final_cols]  # 순서 맞춰서 정렬\n",
    "\n",
    "# 6. 저장\n",
    "final_df.to_csv('Data/Academia/merged_journals_preprocessed.csv', index=False)\n",
    "\n",
    "# 7. 확인용 출력\n",
    "print(\"✅ 최종 데이터 수:\", final_df.shape)\n",
    "print(\"✅ 결측치 확인:\\n\", final_df.isnull().sum())"
   ],
   "id": "1c28a5ddd40d79e1",
   "outputs": [
    {
     "name": "stdout",
     "output_type": "stream",
     "text": [
      "✅ 최종 데이터 수: (4032, 5)\n",
      "✅ 결측치 확인:\n",
      " title            0\n",
      "abstract         0\n",
      "keywords        47\n",
      "date             0\n",
      "affiliations     0\n",
      "dtype: int64\n"
     ]
    }
   ],
   "execution_count": 18
  },
  {
   "metadata": {
    "ExecuteTime": {
     "end_time": "2025-09-16T06:23:43.015067Z",
     "start_time": "2025-09-16T06:23:43.006186Z"
    }
   },
   "cell_type": "code",
   "source": "final_df.info()",
   "id": "28ba999da245d0f9",
   "outputs": [
    {
     "name": "stdout",
     "output_type": "stream",
     "text": [
      "<class 'pandas.core.frame.DataFrame'>\n",
      "Index: 4032 entries, 1 to 4373\n",
      "Data columns (total 5 columns):\n",
      " #   Column        Non-Null Count  Dtype \n",
      "---  ------        --------------  ----- \n",
      " 0   title         4032 non-null   object\n",
      " 1   abstract      4032 non-null   object\n",
      " 2   keywords      3985 non-null   object\n",
      " 3   date          4032 non-null   int64 \n",
      " 4   affiliations  4032 non-null   object\n",
      "dtypes: int64(1), object(4)\n",
      "memory usage: 189.0+ KB\n"
     ]
    }
   ],
   "execution_count": 19
  },
  {
   "metadata": {
    "ExecuteTime": {
     "end_time": "2025-09-16T06:23:51.812784Z",
     "start_time": "2025-09-16T06:23:51.805906Z"
    }
   },
   "cell_type": "code",
   "source": "print(final_df.value_counts(subset=['affiliations'],sort=False).sort_index())",
   "id": "6a29a87cf225cb28",
   "outputs": [
    {
     "name": "stdout",
     "output_type": "stream",
     "text": [
      "affiliations\n",
      "DSS              360\n",
      "HICSS           2097\n",
      "IAM              270\n",
      "ICIS             822\n",
      "ISR              268\n",
      "MISQ             215\n",
      "Name: count, dtype: int64\n"
     ]
    }
   ],
   "execution_count": 20
  },
  {
   "metadata": {
    "ExecuteTime": {
     "end_time": "2025-09-16T06:18:59.632709Z",
     "start_time": "2025-09-16T06:18:59.503735Z"
    }
   },
   "cell_type": "code",
   "source": [
    "import pandas as pd\n",
    "df = pd.read_csv('Data/Academia/03_journal_2023_2025.csv')\n",
    "df.info()"
   ],
   "id": "65034567cfeedc41",
   "outputs": [
    {
     "name": "stdout",
     "output_type": "stream",
     "text": [
      "<class 'pandas.core.frame.DataFrame'>\n",
      "RangeIndex: 3209 entries, 0 to 3208\n",
      "Data columns (total 6 columns):\n",
      " #   Column        Non-Null Count  Dtype \n",
      "---  ------        --------------  ----- \n",
      " 0   title         3209 non-null   object\n",
      " 1   date          3209 non-null   int64 \n",
      " 2   abstract      3209 non-null   object\n",
      " 3   keywords      3209 non-null   object\n",
      " 4   authors       3209 non-null   object\n",
      " 5   affiliations  3209 non-null   object\n",
      "dtypes: int64(1), object(5)\n",
      "memory usage: 150.6+ KB\n"
     ]
    }
   ],
   "execution_count": 15
  },
  {
   "metadata": {
    "ExecuteTime": {
     "end_time": "2025-09-16T06:19:10.489384Z",
     "start_time": "2025-09-16T06:19:10.472548Z"
    }
   },
   "cell_type": "code",
   "source": "print(df.value_counts(subset=['affiliations'],sort=False).sort_index())",
   "id": "804f3e2c81674851",
   "outputs": [
    {
     "name": "stdout",
     "output_type": "stream",
     "text": [
      "affiliations\n",
      "HICSS           2098\n",
      "ICIS             822\n",
      "ISR              149\n",
      "MISQ             140\n",
      "Name: count, dtype: int64\n"
     ]
    }
   ],
   "execution_count": 16
  },
  {
   "metadata": {},
   "cell_type": "markdown",
   "source": "# 2. Industry",
   "id": "b5345ddb4f8a7414"
  },
  {
   "metadata": {},
   "cell_type": "markdown",
   "source": "## 2.1. 데이터 병합",
   "id": "65d710deb049ff9b"
  },
  {
   "metadata": {},
   "cell_type": "code",
   "outputs": [],
   "execution_count": null,
   "source": "",
   "id": "a2fb8eaa9caa06a8"
  }
 ],
 "metadata": {
  "kernelspec": {
   "display_name": "Python 3",
   "language": "python",
   "name": "python3"
  },
  "language_info": {
   "codemirror_mode": {
    "name": "ipython",
    "version": 2
   },
   "file_extension": ".py",
   "mimetype": "text/x-python",
   "name": "python",
   "nbconvert_exporter": "python",
   "pygments_lexer": "ipython2",
   "version": "2.7.6"
  }
 },
 "nbformat": 4,
 "nbformat_minor": 5
}
