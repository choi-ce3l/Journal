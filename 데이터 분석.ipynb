{
 "cells": [
  {
   "metadata": {},
   "cell_type": "markdown",
   "source": "# 1. 데이터 개수 파악",
   "id": "ae10255525020c82"
  },
  {
   "cell_type": "code",
   "id": "initial_id",
   "metadata": {
    "collapsed": true,
    "ExecuteTime": {
     "end_time": "2025-09-26T06:04:39.370610Z",
     "start_time": "2025-09-26T06:04:38.962290Z"
    }
   },
   "source": [
    "import pandas as pd\n",
    "\n",
    "industry=pd.read_csv('/home/dslab/choi/Journal/Data/08_industry.csv')\n",
    "industry.info()"
   ],
   "outputs": [
    {
     "name": "stdout",
     "output_type": "stream",
     "text": [
      "<class 'pandas.core.frame.DataFrame'>\n",
      "RangeIndex: 13850 entries, 0 to 13849\n",
      "Data columns (total 5 columns):\n",
      " #   Column        Non-Null Count  Dtype  \n",
      "---  ------        --------------  -----  \n",
      " 0   title         13850 non-null  object \n",
      " 1   content       13850 non-null  object \n",
      " 2   date          13850 non-null  float64\n",
      " 3   affiliations  13850 non-null  object \n",
      " 4   keywords      7815 non-null   object \n",
      "dtypes: float64(1), object(4)\n",
      "memory usage: 541.1+ KB\n"
     ]
    }
   ],
   "execution_count": 14
  },
  {
   "metadata": {
    "ExecuteTime": {
     "end_time": "2025-09-26T06:04:40.118075Z",
     "start_time": "2025-09-26T06:04:40.104940Z"
    }
   },
   "cell_type": "code",
   "source": [
    "print(industry.value_counts(subset=['affiliations']))\n",
    "print(industry.value_counts(subset=['date']))"
   ],
   "id": "36a9b2b8eff1568e",
   "outputs": [
    {
     "name": "stdout",
     "output_type": "stream",
     "text": [
      "affiliations       \n",
      "The Verge              4406\n",
      "TechCrunch             3409\n",
      "The Guardian           2341\n",
      "BBC                    1431\n",
      "Wall Street Journal     955\n",
      "New York Times          900\n",
      "CNN                     408\n",
      "Name: count, dtype: int64\n",
      "date  \n",
      "2024.0    5162\n",
      "2025.0    4578\n",
      "2023.0    4110\n",
      "Name: count, dtype: int64\n"
     ]
    }
   ],
   "execution_count": 15
  },
  {
   "metadata": {
    "ExecuteTime": {
     "end_time": "2025-09-26T06:03:43.234118Z",
     "start_time": "2025-09-26T06:03:43.160233Z"
    }
   },
   "cell_type": "code",
   "source": [
    "import pandas as pd\n",
    "\n",
    "academia=pd.read_csv('/home/dslab/choi/Journal/Data/08_journal.csv')\n",
    "academia.info()"
   ],
   "id": "456b75930628b281",
   "outputs": [
    {
     "name": "stdout",
     "output_type": "stream",
     "text": [
      "<class 'pandas.core.frame.DataFrame'>\n",
      "RangeIndex: 4032 entries, 0 to 4031\n",
      "Data columns (total 6 columns):\n",
      " #   Column        Non-Null Count  Dtype \n",
      "---  ------        --------------  ----- \n",
      " 0   title         4032 non-null   object\n",
      " 1   date          4032 non-null   int64 \n",
      " 2   abstract      4032 non-null   object\n",
      " 3   keywords      3208 non-null   object\n",
      " 4   authors       3208 non-null   object\n",
      " 5   affiliations  4032 non-null   object\n",
      "dtypes: int64(1), object(5)\n",
      "memory usage: 189.1+ KB\n"
     ]
    }
   ],
   "execution_count": 10
  },
  {
   "metadata": {
    "ExecuteTime": {
     "end_time": "2025-09-26T06:03:46.560509Z",
     "start_time": "2025-09-26T06:03:46.548786Z"
    }
   },
   "cell_type": "code",
   "source": [
    "print(academia.value_counts(subset=['affiliations']))\n",
    "print(academia.value_counts(subset=['date']))"
   ],
   "id": "d47f776bf58eda6f",
   "outputs": [
    {
     "name": "stdout",
     "output_type": "stream",
     "text": [
      "affiliations\n",
      "HICSS           2097\n",
      "ICIS             822\n",
      "DSS              360\n",
      "IAM              270\n",
      "ISR              268\n",
      "MISQ             215\n",
      "Name: count, dtype: int64\n",
      "date\n",
      "2024    1580\n",
      "2023    1470\n",
      "2025     982\n",
      "Name: count, dtype: int64\n"
     ]
    }
   ],
   "execution_count": 11
  },
  {
   "metadata": {},
   "cell_type": "code",
   "outputs": [],
   "execution_count": null,
   "source": "",
   "id": "38167f14e06b63f5"
  }
 ],
 "metadata": {
  "kernelspec": {
   "display_name": "Python 3",
   "language": "python",
   "name": "python3"
  },
  "language_info": {
   "codemirror_mode": {
    "name": "ipython",
    "version": 2
   },
   "file_extension": ".py",
   "mimetype": "text/x-python",
   "name": "python",
   "nbconvert_exporter": "python",
   "pygments_lexer": "ipython2",
   "version": "2.7.6"
  }
 },
 "nbformat": 4,
 "nbformat_minor": 5
}
